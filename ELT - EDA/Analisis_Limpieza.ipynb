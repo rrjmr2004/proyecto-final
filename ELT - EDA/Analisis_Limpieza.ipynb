{
 "cells": [
  {
   "cell_type": "markdown",
   "id": "bb359ac4",
   "metadata": {},
   "source": [
    "# 🚀 Conexion con la base de datos y librerias **draft_history**"
   ]
  },
  {
   "cell_type": "code",
   "execution_count": 1,
   "id": "88667a33",
   "metadata": {},
   "outputs": [],
   "source": [
    "# Importar librerías\n",
    "\n",
    "import sqlite3\n",
    "import pandas as pd\n",
    "import numpy as np\n",
    "import matplotlib.pyplot as plt\n",
    "import seaborn as sns"
   ]
  },
  {
   "cell_type": "code",
   "execution_count": 2,
   "id": "6809a2e3",
   "metadata": {},
   "outputs": [],
   "source": [
    "conexion = sqlite3.connect('c:\\\\Users\\\\benav\\\\Downloads\\\\nba.sqlite')"
   ]
  },
  {
   "cell_type": "code",
   "execution_count": 3,
   "id": "5ceaeb27",
   "metadata": {},
   "outputs": [
    {
     "name": "stdout",
     "output_type": "stream",
     "text": [
      "                   name\n",
      "0                  game\n",
      "1          game_summary\n",
      "2           other_stats\n",
      "3             officials\n",
      "4      inactive_players\n",
      "5             game_info\n",
      "6            line_score\n",
      "7          play_by_play\n",
      "8                player\n",
      "9                  team\n",
      "10   common_player_info\n",
      "11         team_details\n",
      "12         team_history\n",
      "13  draft_combine_stats\n",
      "14        draft_history\n",
      "15     team_info_common\n"
     ]
    }
   ],
   "source": [
    "# Lee todas las tablas que existen en la base de datos\n",
    "query = \"SELECT name FROM sqlite_master WHERE type='table';\"\n",
    "tablas = pd.read_sql(query, conexion)\n",
    "\n",
    "print(tablas)"
   ]
  },
  {
   "cell_type": "markdown",
   "id": "4fc6d27a",
   "metadata": {},
   "source": [
    "# 🚀 Mirar cuales años son las ultimas temporadas **draft_history**"
   ]
  },
  {
   "cell_type": "code",
   "execution_count": 4,
   "id": "7582a356",
   "metadata": {},
   "outputs": [],
   "source": [
    "df_draft = pd.read_sql(\"SELECT * FROM draft_history\", conexion) #tipos de puntos,tiempo etc.."
   ]
  },
  {
   "cell_type": "code",
   "execution_count": 5,
   "id": "ef0f5885",
   "metadata": {},
   "outputs": [
    {
     "name": "stdout",
     "output_type": "stream",
     "text": [
      "['2019', '2020', '2021', '2022', '2023']\n"
     ]
    }
   ],
   "source": [
    "# Obtener los años únicos y ordenarlos ascendente\n",
    "años_unicos = sorted(df_draft['season'].unique())\n",
    "\n",
    "# Tomar los últimos 5 años\n",
    "ultimos_5_años = años_unicos[-5:]\n",
    "\n",
    "print(ultimos_5_años)\n"
   ]
  },
  {
   "cell_type": "markdown",
   "id": "1c2c60e7",
   "metadata": {},
   "source": [
    "# 🚀 Comenzamos con la primera tabla **other_stats**"
   ]
  },
  {
   "cell_type": "code",
   "execution_count": 6,
   "id": "8d38873b",
   "metadata": {},
   "outputs": [],
   "source": [
    "#VARIABLE\n",
    "df_other_stats = pd.read_sql(\"SELECT * FROM other_stats\", conexion) #tipos de puntos,tiempo etc..\n"
   ]
  },
  {
   "cell_type": "markdown",
   "id": "8f982043",
   "metadata": {},
   "source": [
    "miramos cuantos nulos ay en cada columna"
   ]
  },
  {
   "cell_type": "code",
   "execution_count": 7,
   "id": "ab39fcc3",
   "metadata": {},
   "outputs": [
    {
     "name": "stdout",
     "output_type": "stream",
     "text": [
      "Valores nulos en df_other_stats:\n",
      "game_id                      0\n",
      "league_id                    0\n",
      "team_id_home                 0\n",
      "team_abbreviation_home       0\n",
      "team_city_home               0\n",
      "pts_paint_home               0\n",
      "pts_2nd_chance_home          0\n",
      "pts_fb_home                  0\n",
      "largest_lead_home            0\n",
      "lead_changes                 0\n",
      "times_tied                   0\n",
      "team_turnovers_home          2\n",
      "total_turnovers_home       316\n",
      "team_rebounds_home        1998\n",
      "pts_off_to_home           2123\n",
      "team_id_away                 0\n",
      "team_abbreviation_away       0\n",
      "team_city_away               0\n",
      "pts_paint_away               0\n",
      "pts_2nd_chance_away          0\n",
      "pts_fb_away                  0\n",
      "largest_lead_away            0\n",
      "team_turnovers_away          2\n",
      "total_turnovers_away       316\n",
      "team_rebounds_away        1998\n",
      "pts_off_to_away           2123\n",
      "dtype: int64\n"
     ]
    }
   ],
   "source": [
    "print(\"Valores nulos en df_other_stats:\")\n",
    "print(df_other_stats.isnull().sum())"
   ]
  },
  {
   "cell_type": "markdown",
   "id": "cd07fb63",
   "metadata": {},
   "source": [
    "miramos que datos tiene las columnas donde ay nulos para hacerle la limpieza"
   ]
  },
  {
   "cell_type": "code",
   "execution_count": 8,
   "id": "8f982043",
   "metadata": {},
   "outputs": [
    {
     "data": {
      "application/vnd.microsoft.datawrangler.viewer.v0+json": {
       "columns": [
        {
         "name": "index",
         "rawType": "object",
         "type": "string"
        },
        {
         "name": "0",
         "rawType": "object",
         "type": "unknown"
        }
       ],
       "ref": "9d467c13-5d9e-4ebd-9c82-5637f08e1095",
       "rows": [
        [
         "game_id",
         "object"
        ],
        [
         "league_id",
         "object"
        ],
        [
         "team_id_home",
         "object"
        ],
        [
         "team_abbreviation_home",
         "object"
        ],
        [
         "team_city_home",
         "object"
        ],
        [
         "pts_paint_home",
         "int64"
        ],
        [
         "pts_2nd_chance_home",
         "int64"
        ],
        [
         "pts_fb_home",
         "int64"
        ],
        [
         "largest_lead_home",
         "int64"
        ],
        [
         "lead_changes",
         "int64"
        ],
        [
         "times_tied",
         "int64"
        ],
        [
         "team_turnovers_home",
         "float64"
        ],
        [
         "total_turnovers_home",
         "float64"
        ],
        [
         "team_rebounds_home",
         "float64"
        ],
        [
         "pts_off_to_home",
         "float64"
        ],
        [
         "team_id_away",
         "object"
        ],
        [
         "team_abbreviation_away",
         "object"
        ],
        [
         "team_city_away",
         "object"
        ],
        [
         "pts_paint_away",
         "int64"
        ],
        [
         "pts_2nd_chance_away",
         "int64"
        ],
        [
         "pts_fb_away",
         "int64"
        ],
        [
         "largest_lead_away",
         "int64"
        ],
        [
         "team_turnovers_away",
         "float64"
        ],
        [
         "total_turnovers_away",
         "float64"
        ],
        [
         "team_rebounds_away",
         "float64"
        ],
        [
         "pts_off_to_away",
         "float64"
        ]
       ],
       "shape": {
        "columns": 1,
        "rows": 26
       }
      },
      "text/plain": [
       "game_id                    object\n",
       "league_id                  object\n",
       "team_id_home               object\n",
       "team_abbreviation_home     object\n",
       "team_city_home             object\n",
       "pts_paint_home              int64\n",
       "pts_2nd_chance_home         int64\n",
       "pts_fb_home                 int64\n",
       "largest_lead_home           int64\n",
       "lead_changes                int64\n",
       "times_tied                  int64\n",
       "team_turnovers_home       float64\n",
       "total_turnovers_home      float64\n",
       "team_rebounds_home        float64\n",
       "pts_off_to_home           float64\n",
       "team_id_away               object\n",
       "team_abbreviation_away     object\n",
       "team_city_away             object\n",
       "pts_paint_away              int64\n",
       "pts_2nd_chance_away         int64\n",
       "pts_fb_away                 int64\n",
       "largest_lead_away           int64\n",
       "team_turnovers_away       float64\n",
       "total_turnovers_away      float64\n",
       "team_rebounds_away        float64\n",
       "pts_off_to_away           float64\n",
       "dtype: object"
      ]
     },
     "execution_count": 8,
     "metadata": {},
     "output_type": "execute_result"
    }
   ],
   "source": [
    "df_other_stats.dtypes"
   ]
  },
  {
   "cell_type": "markdown",
   "id": "dcfeb5ea",
   "metadata": {},
   "source": [
    "las columnas con numero y que tiene valores nulos se remplazan por 0 "
   ]
  },
  {
   "cell_type": "code",
   "execution_count": 9,
   "id": "d8bf09a4",
   "metadata": {},
   "outputs": [],
   "source": [
    "#se guarda las columnas en una variable\n",
    "limpieza_other = [\n",
    "    'team_turnovers_home',\n",
    "    'team_rebounds_home',\n",
    "    'pts_off_to_home',\n",
    "    'total_turnovers_away',\n",
    "    'team_rebounds_away',\n",
    "    'pts_off_to_away',\n",
    "    'total_turnovers_home'\n",
    "]\n",
    "\n",
    "#se guarda en una variable la limpieza de NaN\n",
    "df_other_stats.loc[:, limpieza_other] = df_other_stats.loc[:, limpieza_other].fillna(0)"
   ]
  },
  {
   "cell_type": "markdown",
   "id": "391f2554",
   "metadata": {},
   "source": [
    "verificamos los cambios "
   ]
  },
  {
   "cell_type": "code",
   "execution_count": 10,
   "id": "49c9b9b1",
   "metadata": {},
   "outputs": [
    {
     "name": "stdout",
     "output_type": "stream",
     "text": [
      "game_id                   0\n",
      "league_id                 0\n",
      "team_id_home              0\n",
      "team_abbreviation_home    0\n",
      "team_city_home            0\n",
      "pts_paint_home            0\n",
      "pts_2nd_chance_home       0\n",
      "pts_fb_home               0\n",
      "largest_lead_home         0\n",
      "lead_changes              0\n",
      "times_tied                0\n",
      "team_turnovers_home       0\n",
      "total_turnovers_home      0\n",
      "team_rebounds_home        0\n",
      "pts_off_to_home           0\n",
      "team_id_away              0\n",
      "team_abbreviation_away    0\n",
      "team_city_away            0\n",
      "pts_paint_away            0\n",
      "pts_2nd_chance_away       0\n",
      "pts_fb_away               0\n",
      "largest_lead_away         0\n",
      "team_turnovers_away       2\n",
      "total_turnovers_away      0\n",
      "team_rebounds_away        0\n",
      "pts_off_to_away           0\n",
      "dtype: int64\n"
     ]
    }
   ],
   "source": [
    "print(df_other_stats.isnull().sum())"
   ]
  },
  {
   "cell_type": "markdown",
   "id": "a7e73eca",
   "metadata": {},
   "source": [
    "# 🚀 Segunda tabla **line_score**"
   ]
  },
  {
   "cell_type": "code",
   "execution_count": 11,
   "id": "be005021",
   "metadata": {},
   "outputs": [],
   "source": [
    "df_line_score = pd.read_sql(\"SELECT * FROM line_score\", conexion) #partidos con puntos por cuarto y extratime"
   ]
  },
  {
   "cell_type": "markdown",
   "id": "bf35607c",
   "metadata": {},
   "source": [
    "sumamos los nulos para saber que valores tiene las colummnas"
   ]
  },
  {
   "cell_type": "code",
   "execution_count": 12,
   "id": "49dfa386",
   "metadata": {},
   "outputs": [
    {
     "name": "stdout",
     "output_type": "stream",
     "text": [
      "game_date_est                 0\n",
      "game_sequence             25532\n",
      "game_id                       0\n",
      "team_id_home                  0\n",
      "team_abbreviation_home        0\n",
      "team_city_name_home           0\n",
      "team_nickname_home            0\n",
      "team_wins_losses_home         0\n",
      "pts_qtr1_home              1004\n",
      "pts_qtr2_home              1013\n",
      "pts_qtr3_home              1045\n",
      "pts_qtr4_home              1044\n",
      "pts_ot1_home              25759\n",
      "pts_ot2_home              27051\n",
      "pts_ot3_home              27243\n",
      "pts_ot4_home              27270\n",
      "pts_ot5_home              45577\n",
      "pts_ot6_home              45578\n",
      "pts_ot7_home              45578\n",
      "pts_ot8_home              45578\n",
      "pts_ot9_home              45578\n",
      "pts_ot10_home             45578\n",
      "pts_home                      0\n",
      "team_id_away                  0\n",
      "team_abbreviation_away        0\n",
      "team_city_name_away           0\n",
      "team_nickname_away            0\n",
      "team_wins_losses_away         0\n",
      "pts_qtr1_away              1010\n",
      "pts_qtr2_away              1013\n",
      "pts_qtr3_away              1046\n",
      "pts_qtr4_away              1046\n",
      "pts_ot1_away              25759\n",
      "pts_ot2_away              27051\n",
      "pts_ot3_away              27243\n",
      "pts_ot4_away              27270\n",
      "pts_ot5_away              45577\n",
      "pts_ot6_away              45578\n",
      "pts_ot7_away              45578\n",
      "pts_ot8_away              45578\n",
      "pts_ot9_away              45578\n",
      "pts_ot10_away             45578\n",
      "pts_away                      0\n",
      "dtype: int64\n"
     ]
    }
   ],
   "source": [
    "print(df_line_score.isnull().sum())"
   ]
  },
  {
   "cell_type": "markdown",
   "id": "bc8bf496",
   "metadata": {},
   "source": [
    "Filtrar por fecha de los ultimos 5 años "
   ]
  },
  {
   "cell_type": "code",
   "execution_count": 13,
   "id": "7d03368c",
   "metadata": {},
   "outputs": [
    {
     "name": "stdout",
     "output_type": "stream",
     "text": [
      "[2019 2020 2021 2022 2023]\n"
     ]
    }
   ],
   "source": [
    "#  convertir la columna a tipo datetime\n",
    "df_line_score['game_date_est'] = pd.to_datetime(df_line_score['game_date_est'], errors='coerce')\n",
    "\n",
    "# filtrar\n",
    "ultimos_5_años = [2019, 2020, 2021, 2022, 2023]\n",
    "df_line_score_filtrado = df_line_score[df_line_score['game_date_est'].dt.year.isin(ultimos_5_años)]\n",
    "\n",
    "#verificar filtrado con unique\n",
    "print(df_line_score_filtrado['game_date_est'].dt.year.unique())"
   ]
  },
  {
   "cell_type": "markdown",
   "id": "29e8b882",
   "metadata": {},
   "source": [
    "mirar el tipo de datos para remplazar o eliminar"
   ]
  },
  {
   "cell_type": "code",
   "execution_count": 14,
   "id": "adbf1846",
   "metadata": {},
   "outputs": [
    {
     "data": {
      "application/vnd.microsoft.datawrangler.viewer.v0+json": {
       "columns": [
        {
         "name": "index",
         "rawType": "object",
         "type": "string"
        },
        {
         "name": "0",
         "rawType": "object",
         "type": "unknown"
        }
       ],
       "ref": "630d3b6c-5441-4b6d-8a15-529bd9e94c80",
       "rows": [
        [
         "game_date_est",
         "datetime64[ns]"
        ],
        [
         "game_sequence",
         "float64"
        ],
        [
         "game_id",
         "object"
        ],
        [
         "team_id_home",
         "object"
        ],
        [
         "team_abbreviation_home",
         "object"
        ],
        [
         "team_city_name_home",
         "object"
        ],
        [
         "team_nickname_home",
         "object"
        ],
        [
         "team_wins_losses_home",
         "object"
        ],
        [
         "pts_qtr1_home",
         "object"
        ],
        [
         "pts_qtr2_home",
         "object"
        ],
        [
         "pts_qtr3_home",
         "object"
        ],
        [
         "pts_qtr4_home",
         "object"
        ],
        [
         "pts_ot1_home",
         "float64"
        ],
        [
         "pts_ot2_home",
         "float64"
        ],
        [
         "pts_ot3_home",
         "float64"
        ],
        [
         "pts_ot4_home",
         "float64"
        ],
        [
         "pts_ot5_home",
         "float64"
        ],
        [
         "pts_ot6_home",
         "float64"
        ],
        [
         "pts_ot7_home",
         "float64"
        ],
        [
         "pts_ot8_home",
         "float64"
        ],
        [
         "pts_ot9_home",
         "float64"
        ],
        [
         "pts_ot10_home",
         "float64"
        ],
        [
         "pts_home",
         "float64"
        ],
        [
         "team_id_away",
         "object"
        ],
        [
         "team_abbreviation_away",
         "object"
        ],
        [
         "team_city_name_away",
         "object"
        ],
        [
         "team_nickname_away",
         "object"
        ],
        [
         "team_wins_losses_away",
         "object"
        ],
        [
         "pts_qtr1_away",
         "float64"
        ],
        [
         "pts_qtr2_away",
         "object"
        ],
        [
         "pts_qtr3_away",
         "object"
        ],
        [
         "pts_qtr4_away",
         "float64"
        ],
        [
         "pts_ot1_away",
         "float64"
        ],
        [
         "pts_ot2_away",
         "float64"
        ],
        [
         "pts_ot3_away",
         "float64"
        ],
        [
         "pts_ot4_away",
         "float64"
        ],
        [
         "pts_ot5_away",
         "float64"
        ],
        [
         "pts_ot6_away",
         "float64"
        ],
        [
         "pts_ot7_away",
         "float64"
        ],
        [
         "pts_ot8_away",
         "float64"
        ],
        [
         "pts_ot9_away",
         "float64"
        ],
        [
         "pts_ot10_away",
         "float64"
        ],
        [
         "pts_away",
         "float64"
        ]
       ],
       "shape": {
        "columns": 1,
        "rows": 43
       }
      },
      "text/plain": [
       "game_date_est             datetime64[ns]\n",
       "game_sequence                    float64\n",
       "game_id                           object\n",
       "team_id_home                      object\n",
       "team_abbreviation_home            object\n",
       "team_city_name_home               object\n",
       "team_nickname_home                object\n",
       "team_wins_losses_home             object\n",
       "pts_qtr1_home                     object\n",
       "pts_qtr2_home                     object\n",
       "pts_qtr3_home                     object\n",
       "pts_qtr4_home                     object\n",
       "pts_ot1_home                     float64\n",
       "pts_ot2_home                     float64\n",
       "pts_ot3_home                     float64\n",
       "pts_ot4_home                     float64\n",
       "pts_ot5_home                     float64\n",
       "pts_ot6_home                     float64\n",
       "pts_ot7_home                     float64\n",
       "pts_ot8_home                     float64\n",
       "pts_ot9_home                     float64\n",
       "pts_ot10_home                    float64\n",
       "pts_home                         float64\n",
       "team_id_away                      object\n",
       "team_abbreviation_away            object\n",
       "team_city_name_away               object\n",
       "team_nickname_away                object\n",
       "team_wins_losses_away             object\n",
       "pts_qtr1_away                    float64\n",
       "pts_qtr2_away                     object\n",
       "pts_qtr3_away                     object\n",
       "pts_qtr4_away                    float64\n",
       "pts_ot1_away                     float64\n",
       "pts_ot2_away                     float64\n",
       "pts_ot3_away                     float64\n",
       "pts_ot4_away                     float64\n",
       "pts_ot5_away                     float64\n",
       "pts_ot6_away                     float64\n",
       "pts_ot7_away                     float64\n",
       "pts_ot8_away                     float64\n",
       "pts_ot9_away                     float64\n",
       "pts_ot10_away                    float64\n",
       "pts_away                         float64\n",
       "dtype: object"
      ]
     },
     "execution_count": 14,
     "metadata": {},
     "output_type": "execute_result"
    }
   ],
   "source": [
    "df_line_score_filtrado.dtypes"
   ]
  },
  {
   "cell_type": "markdown",
   "id": "19e7cb3a",
   "metadata": {},
   "source": [
    "mirar que valores tiene porque aparece object y no float o int para poder limpiar"
   ]
  },
  {
   "cell_type": "code",
   "execution_count": 15,
   "id": "9bb2e5ee",
   "metadata": {},
   "outputs": [
    {
     "name": "stdout",
     "output_type": "stream",
     "text": [
      "pts_qtr1_home\n",
      "['27' '24' '25' '28' '41' '32' '26' '35' '29' '21' '23' '30' '19' '22'\n",
      " '31' '38' '34' '14' '13' '43' '33' '20' '18' '37' '36' '51' '39' '16'\n",
      " '17' '42' '40' '50' '46' '15' '12' '11' '53' '44' '45' '47' '9' '48' '10'\n",
      " '49' '55']\n",
      "pts_qtr2_home\n",
      "['25' '29' '27' '35' '30' '15' '32' '17' '21' '20' '36' '31' '34' '28'\n",
      " '33' '24' '23' '19' '22' '37' '26' '16' '40' '13' '39' '45' '42' '43'\n",
      " '48' '18' '38' '44' '41' '14' '12' '11' '47' '46' '51' '10' '9' '49' '50']\n",
      "pts_qtr3_home\n",
      "['21' '32' '27' '25' '28' '24' '38' '29' '39' '30' '18' '33' '34' '20'\n",
      " '23' '31' '26' '36' '37' '22' '41' '19' '14' '12' '35' '40' '17' '44'\n",
      " '45' '13' '15' '42' '11' '8' '16' '43' '46' '48' '49' '9' '10' '47']\n",
      "pts_qtr4_home\n",
      "['25' '31' '26' '33' '18' '22' '19' '40' '34' '21' '29' '32' '27' '20'\n",
      " '23' '30' '36' '35' '24' '28' '37' '17' '45' '46' '41' '39' '38' '9' '16'\n",
      " '15' '11' '43' '42' '14' '48' '8' '44' '13' '6' '12' '10' '0']\n"
     ]
    }
   ],
   "source": [
    "for a in ['pts_qtr1_home', 'pts_qtr2_home', 'pts_qtr3_home', 'pts_qtr4_home']:\n",
    "        print(a)\n",
    "        print(df_line_score_filtrado[a].unique())"
   ]
  },
  {
   "cell_type": "markdown",
   "id": "2d4c9c1c",
   "metadata": {},
   "source": [
    "comenzamos a rellenar los NaN con 0 ya que son numeros"
   ]
  },
  {
   "cell_type": "code",
   "execution_count": 16,
   "id": "0387f64d",
   "metadata": {},
   "outputs": [],
   "source": [
    "#se guarda las columnas en una variable\n",
    "limpieza_score = [\n",
    "    'game_sequence',\n",
    "    'pts_qtr1_home',\n",
    "    'pts_qtr2_home',\n",
    "    'pts_qtr3_home',\n",
    "    'pts_qtr4_home',\n",
    "    'pts_ot1_home',\n",
    "    'pts_ot2_home',\n",
    "    'pts_ot3_home',\n",
    "    'pts_ot4_home',\n",
    "    'pts_ot5_home',\n",
    "    'pts_ot6_home',\n",
    "    'pts_ot7_home',\n",
    "    'pts_ot8_home',\n",
    "    'pts_ot9_home',\n",
    "    'pts_ot10_home',\n",
    "    'pts_ot9_away',\n",
    "    'pts_ot10_away'\n",
    "]\n",
    "\n",
    "#se guarda en una variable la limpieza de NaN\n",
    "df_line_score_filtrado.loc[:, limpieza_score] = df_line_score_filtrado.loc[:, limpieza_score].fillna(0)\n"
   ]
  },
  {
   "cell_type": "markdown",
   "id": "c8faa8ad",
   "metadata": {},
   "source": [
    "Verificamos que no haya nulos con la limpieza de antes"
   ]
  },
  {
   "cell_type": "code",
   "execution_count": 17,
   "id": "04fa1230",
   "metadata": {},
   "outputs": [
    {
     "name": "stdout",
     "output_type": "stream",
     "text": [
      "game_date_est             0\n",
      "game_sequence             0\n",
      "game_id                   0\n",
      "team_id_home              0\n",
      "team_abbreviation_home    0\n",
      "team_city_name_home       0\n",
      "team_nickname_home        0\n",
      "team_wins_losses_home     0\n",
      "pts_qtr1_home             0\n",
      "pts_qtr2_home             0\n",
      "pts_qtr3_home             0\n",
      "pts_qtr4_home             0\n",
      "pts_ot1_home              0\n",
      "pts_ot2_home              0\n",
      "pts_ot3_home              0\n",
      "pts_ot4_home              0\n",
      "pts_ot5_home              0\n",
      "pts_ot6_home              0\n",
      "pts_ot7_home              0\n",
      "pts_ot8_home              0\n",
      "pts_ot9_home              0\n",
      "pts_ot10_home             0\n",
      "pts_home                  0\n",
      "team_id_away              0\n",
      "team_abbreviation_away    0\n",
      "team_city_name_away       0\n",
      "team_nickname_away        0\n",
      "team_wins_losses_away     0\n",
      "pts_qtr1_away             0\n",
      "pts_qtr2_away             0\n",
      "pts_qtr3_away             0\n",
      "pts_qtr4_away             0\n",
      "pts_ot1_away              0\n",
      "pts_ot2_away              0\n",
      "pts_ot3_away              0\n",
      "pts_ot4_away              0\n",
      "pts_ot5_away              0\n",
      "pts_ot6_away              0\n",
      "pts_ot7_away              0\n",
      "pts_ot8_away              0\n",
      "pts_ot9_away              0\n",
      "pts_ot10_away             0\n",
      "pts_away                  0\n",
      "dtype: int64\n"
     ]
    }
   ],
   "source": [
    "print(df_line_score_filtrado.isnull().sum())"
   ]
  },
  {
   "cell_type": "markdown",
   "id": "5dbed7e5",
   "metadata": {},
   "source": [
    "# 🚀 Tercera tabla  **common_player_info**"
   ]
  },
  {
   "cell_type": "code",
   "execution_count": 18,
   "id": "0d474a84",
   "metadata": {},
   "outputs": [],
   "source": [
    "df_common_player_info = pd.read_sql(\"SELECT * FROM common_player_info\", conexion) #similar a player pero mas detallado "
   ]
  },
  {
   "cell_type": "markdown",
   "id": "0b13a009",
   "metadata": {},
   "source": [
    "mirar que columnas tiene valores nulos"
   ]
  },
  {
   "cell_type": "code",
   "execution_count": 19,
   "id": "b2c92b2e",
   "metadata": {},
   "outputs": [
    {
     "name": "stdout",
     "output_type": "stream",
     "text": [
      "person_id                             0\n",
      "first_name                            0\n",
      "last_name                             0\n",
      "display_first_last                    0\n",
      "display_last_comma_first              0\n",
      "display_fi_last                       0\n",
      "player_slug                           0\n",
      "birthdate                             0\n",
      "school                                1\n",
      "country                               1\n",
      "last_affiliation                      0\n",
      "height                                0\n",
      "weight                                0\n",
      "season_exp                            0\n",
      "jersey                                0\n",
      "position                              0\n",
      "rosterstatus                          0\n",
      "games_played_current_season_flag      0\n",
      "team_id                               0\n",
      "team_name                             0\n",
      "team_abbreviation                     0\n",
      "team_code                             0\n",
      "team_city                             0\n",
      "playercode                            1\n",
      "from_year                             0\n",
      "to_year                               0\n",
      "dleague_flag                          0\n",
      "nba_flag                              0\n",
      "games_played_flag                     0\n",
      "draft_year                            0\n",
      "draft_round                         146\n",
      "draft_number                        198\n",
      "greatest_75_flag                      0\n",
      "dtype: int64\n"
     ]
    }
   ],
   "source": [
    "print(df_common_player_info.isnull().sum())"
   ]
  },
  {
   "cell_type": "markdown",
   "id": "f6334d94",
   "metadata": {},
   "source": [
    "miramos que tipo de dato tiene la columna"
   ]
  },
  {
   "cell_type": "code",
   "execution_count": 20,
   "id": "3d2fb15d",
   "metadata": {},
   "outputs": [
    {
     "name": "stdout",
     "output_type": "stream",
     "text": [
      "draft_round     object\n",
      "draft_number    object\n",
      "dtype: object\n"
     ]
    }
   ],
   "source": [
    "print(df_common_player_info[[\"draft_round\",\"draft_number\"]].dtypes)                  "
   ]
  },
  {
   "cell_type": "markdown",
   "id": "6a5cc009",
   "metadata": {},
   "source": [
    "verificar si object tiene datos de numero o letras para remplazar"
   ]
  },
  {
   "cell_type": "code",
   "execution_count": 21,
   "id": "f70b1217",
   "metadata": {},
   "outputs": [
    {
     "name": "stdout",
     "output_type": "stream",
     "text": [
      "draft_number\n",
      "['25' '5' '1' '3' None 'Undrafted' '32' '20' '37' '4' '66' '12' '79' '27'\n",
      " '14' '28' '16' '30' '11' '2' '76' '8' '17' '71' '21' '22' '49' '53' '103'\n",
      " '39' '35' '92' '23' '146' '73' '36' '54' '10' '26' '18' '15' '51' '31'\n",
      " '13' '9' '41' '38' '101' '55' '46' '45' '77' '7' '87' '40' '33' '106'\n",
      " '58' '47' '48' '84' '62' '43' '19' '24' '6' '64' '42' '57' '56' '60' '44'\n",
      " '147' '34' '139' '81' '72' '29' '52' '69' '50' '165' '109' '91' '70' '95'\n",
      " '74' '159' '61' '160' '113' '185' '68' '78' '169' '98' '155' '118' '75'\n",
      " '140' '110' '104' '136' '166' '93' '204' '117' '67' '63' '215' '0' '59'\n",
      " '65' '86' '85' '100' '90' '82' '122' '158' '115' '88' '149' '80' '127'\n",
      " '89' '198' '102' '94' '116' '83' '96' '128' '144' '133' '99' '182' '141'\n",
      " '211' '138' '120' '97' '168' '152' '167' '151' '134' '107' '111' '131'\n",
      " '145' '162' '150' '221' '202' '190']\n",
      "draft round\n",
      "['1' None 'Undrafted' '2' '3' '7' '4' '6' '5' '8' '11' '12' '10' '9' '17'\n",
      " '19' '0' '15' '20']\n"
     ]
    }
   ],
   "source": [
    "print(\"draft_number\")\n",
    "print(df_common_player_info[\"draft_number\"].unique())\n",
    "print(\"draft round\")\n",
    "print(df_common_player_info[\"draft_round\"].unique())"
   ]
  },
  {
   "cell_type": "markdown",
   "id": "ec7bf073",
   "metadata": {},
   "source": [
    "SE REMPLAZA CON Undrafted ya que 0 significa que participo undrafted significa que no fue seleccionado "
   ]
  },
  {
   "cell_type": "code",
   "execution_count": 22,
   "id": "4ec32edc",
   "metadata": {},
   "outputs": [],
   "source": [
    "df_common_player_info[\"draft_number\"] = df_common_player_info[\"draft_number\"].replace({None: 'Undrafted'}) #undrafted no fue selecionado en el draft\n",
    "df_common_player_info[\"draft_round\"] = df_common_player_info[\"draft_round\"].replace({None: 'Undrafted'})"
   ]
  },
  {
   "cell_type": "markdown",
   "id": "16463024",
   "metadata": {},
   "source": [
    "verificamos que no hayan mas nulos  con la limpieza anterior "
   ]
  },
  {
   "cell_type": "code",
   "execution_count": 23,
   "id": "af8f9ca8",
   "metadata": {},
   "outputs": [
    {
     "name": "stdout",
     "output_type": "stream",
     "text": [
      "person_id                           0\n",
      "first_name                          0\n",
      "last_name                           0\n",
      "display_first_last                  0\n",
      "display_last_comma_first            0\n",
      "display_fi_last                     0\n",
      "player_slug                         0\n",
      "birthdate                           0\n",
      "school                              1\n",
      "country                             1\n",
      "last_affiliation                    0\n",
      "height                              0\n",
      "weight                              0\n",
      "season_exp                          0\n",
      "jersey                              0\n",
      "position                            0\n",
      "rosterstatus                        0\n",
      "games_played_current_season_flag    0\n",
      "team_id                             0\n",
      "team_name                           0\n",
      "team_abbreviation                   0\n",
      "team_code                           0\n",
      "team_city                           0\n",
      "playercode                          1\n",
      "from_year                           0\n",
      "to_year                             0\n",
      "dleague_flag                        0\n",
      "nba_flag                            0\n",
      "games_played_flag                   0\n",
      "draft_year                          0\n",
      "draft_round                         0\n",
      "draft_number                        0\n",
      "greatest_75_flag                    0\n",
      "dtype: int64\n"
     ]
    }
   ],
   "source": [
    "print(df_common_player_info.isnull().sum())"
   ]
  },
  {
   "cell_type": "markdown",
   "id": "6fb0d3f0",
   "metadata": {},
   "source": [
    "# 🚀 Cuarta tabla  **draft_combine_stats**\n"
   ]
  },
  {
   "cell_type": "code",
   "execution_count": 24,
   "id": "e053a19c",
   "metadata": {},
   "outputs": [],
   "source": [
    "df_draft_combine_stats = pd.read_sql(\"SELECT * FROM draft_combine_stats\", conexion) #Datos físicos y atléticos"
   ]
  },
  {
   "cell_type": "code",
   "execution_count": 25,
   "id": "2fe8c135",
   "metadata": {},
   "outputs": [
    {
     "name": "stdout",
     "output_type": "stream",
     "text": [
      "season                             0\n",
      "player_id                          0\n",
      "first_name                         0\n",
      "last_name                          0\n",
      "player_name                        0\n",
      "position                           0\n",
      "height_wo_shoes                   58\n",
      "height_wo_shoes_ft_in             58\n",
      "height_w_shoes                   428\n",
      "height_w_shoes_ft_in             428\n",
      "weight                            59\n",
      "wingspan                          58\n",
      "wingspan_ft_in                    58\n",
      "standing_reach                    59\n",
      "standing_reach_ft_in              59\n",
      "body_fat_pct                     357\n",
      "hand_length                      794\n",
      "hand_width                       794\n",
      "standing_vertical_leap           237\n",
      "max_vertical_leap                237\n",
      "lane_agility_time                246\n",
      "modified_lane_agility_time      1124\n",
      "three_quarter_sprint             246\n",
      "bench_press                      538\n",
      "spot_fifteen_corner_left        1529\n",
      "spot_fifteen_break_left         1527\n",
      "spot_fifteen_top_key            1527\n",
      "spot_fifteen_break_right        1527\n",
      "spot_fifteen_corner_right       1527\n",
      "spot_college_corner_left        1341\n",
      "spot_college_break_left         1462\n",
      "spot_college_top_key            1462\n",
      "spot_college_break_right        1462\n",
      "spot_college_corner_right       1462\n",
      "spot_nba_corner_left            1381\n",
      "spot_nba_break_left             1381\n",
      "spot_nba_top_key                1381\n",
      "spot_nba_break_right            1381\n",
      "spot_nba_corner_right           1381\n",
      "off_drib_fifteen_break_left     1432\n",
      "off_drib_fifteen_top_key        1432\n",
      "off_drib_fifteen_break_right    1432\n",
      "off_drib_college_break_left     1483\n",
      "off_drib_college_top_key        1602\n",
      "off_drib_college_break_right    1602\n",
      "on_move_fifteen                 1449\n",
      "on_move_college                 1465\n",
      "dtype: int64\n"
     ]
    }
   ],
   "source": [
    "print(df_draft_combine_stats.isnull().sum())"
   ]
  },
  {
   "cell_type": "markdown",
   "id": "510994a2",
   "metadata": {},
   "source": [
    "verificar las 5 ultimas fechas que esten completas"
   ]
  },
  {
   "cell_type": "code",
   "execution_count": 26,
   "id": "498aee74",
   "metadata": {},
   "outputs": [
    {
     "name": "stdout",
     "output_type": "stream",
     "text": [
      "['2019' '2020' '2021' '2022' '2023']\n"
     ]
    }
   ],
   "source": [
    "# Obtener todos los valores únicos en orden de aparición\n",
    "unique_seasons = df_draft_combine_stats[\"season\"].unique()\n",
    "\n",
    "# Tomar los últimos 5 valores únicos\n",
    "last_5_unique_seasons = unique_seasons[-5:]\n",
    "\n",
    "print(last_5_unique_seasons)\n"
   ]
  },
  {
   "cell_type": "markdown",
   "id": "fa2bb86c",
   "metadata": {},
   "source": [
    "trasformar las fechas en datos fecha y hacer el filtro"
   ]
  },
  {
   "cell_type": "code",
   "execution_count": 27,
   "id": "f4e9be59",
   "metadata": {},
   "outputs": [
    {
     "data": {
      "text/plain": [
       "<DatetimeArray>\n",
       "['2019-01-01 00:00:00', '2020-01-01 00:00:00', '2021-01-01 00:00:00',\n",
       " '2022-01-01 00:00:00', '2023-01-01 00:00:00']\n",
       "Length: 5, dtype: datetime64[ns]"
      ]
     },
     "execution_count": 27,
     "metadata": {},
     "output_type": "execute_result"
    }
   ],
   "source": [
    "#cambiar formato a fecha\n",
    "df_draft_combine_stats[\"season\"] = pd.to_datetime(df_draft_combine_stats[\"season\"], errors='coerce')\n",
    "#filtrar y guardarlo en una variable \n",
    "df_draft_combine_stats_filtrado = df_draft_combine_stats[df_draft_combine_stats['season'].dt.year.isin(ultimos_5_años)]\n",
    "#verificar que si se filtraron\n",
    "filtracion = df_draft_combine_stats_filtrado[\"season\"].unique()\n",
    "filtracion[-5:]"
   ]
  },
  {
   "cell_type": "markdown",
   "id": "427969fa",
   "metadata": {},
   "source": [
    "sumar de nuevos los NaN con la fecha filtrada "
   ]
  },
  {
   "cell_type": "code",
   "execution_count": 28,
   "id": "5d2b5514",
   "metadata": {},
   "outputs": [
    {
     "name": "stdout",
     "output_type": "stream",
     "text": [
      "season                            0\n",
      "player_id                         0\n",
      "first_name                        0\n",
      "last_name                         0\n",
      "player_name                       0\n",
      "position                          0\n",
      "height_wo_shoes                  52\n",
      "height_wo_shoes_ft_in            52\n",
      "height_w_shoes                  119\n",
      "height_w_shoes_ft_in            119\n",
      "weight                           53\n",
      "wingspan                         53\n",
      "wingspan_ft_in                   53\n",
      "standing_reach                   52\n",
      "standing_reach_ft_in             52\n",
      "body_fat_pct                    120\n",
      "hand_length                      52\n",
      "hand_width                       52\n",
      "standing_vertical_leap          103\n",
      "max_vertical_leap               103\n",
      "lane_agility_time               103\n",
      "modified_lane_agility_time      142\n",
      "three_quarter_sprint            104\n",
      "bench_press                     307\n",
      "spot_fifteen_corner_left        352\n",
      "spot_fifteen_break_left         351\n",
      "spot_fifteen_top_key            351\n",
      "spot_fifteen_break_right        351\n",
      "spot_fifteen_corner_right       351\n",
      "spot_college_corner_left        205\n",
      "spot_college_break_left         326\n",
      "spot_college_top_key            326\n",
      "spot_college_break_right        326\n",
      "spot_college_corner_right       326\n",
      "spot_nba_corner_left            317\n",
      "spot_nba_break_left             317\n",
      "spot_nba_top_key                317\n",
      "spot_nba_break_right            317\n",
      "spot_nba_corner_right           317\n",
      "off_drib_fifteen_break_left     320\n",
      "off_drib_fifteen_top_key        320\n",
      "off_drib_fifteen_break_right    320\n",
      "off_drib_college_break_left     235\n",
      "off_drib_college_top_key        354\n",
      "off_drib_college_break_right    354\n",
      "on_move_fifteen                 315\n",
      "on_move_college                 240\n",
      "dtype: int64\n"
     ]
    }
   ],
   "source": [
    "print(df_draft_combine_stats_filtrado.isnull().sum())"
   ]
  },
  {
   "cell_type": "code",
   "execution_count": 29,
   "id": "a2394550",
   "metadata": {},
   "outputs": [
    {
     "data": {
      "application/vnd.microsoft.datawrangler.viewer.v0+json": {
       "columns": [
        {
         "name": "index",
         "rawType": "object",
         "type": "string"
        },
        {
         "name": "0",
         "rawType": "object",
         "type": "unknown"
        }
       ],
       "ref": "f71989b8-b782-426c-aeed-791c489a7ee2",
       "rows": [
        [
         "season",
         "datetime64[ns]"
        ],
        [
         "player_id",
         "object"
        ],
        [
         "first_name",
         "object"
        ],
        [
         "last_name",
         "object"
        ],
        [
         "player_name",
         "object"
        ],
        [
         "position",
         "object"
        ],
        [
         "height_wo_shoes",
         "float64"
        ],
        [
         "height_wo_shoes_ft_in",
         "object"
        ],
        [
         "height_w_shoes",
         "float64"
        ],
        [
         "height_w_shoes_ft_in",
         "object"
        ],
        [
         "weight",
         "object"
        ],
        [
         "wingspan",
         "float64"
        ],
        [
         "wingspan_ft_in",
         "object"
        ],
        [
         "standing_reach",
         "float64"
        ],
        [
         "standing_reach_ft_in",
         "object"
        ],
        [
         "body_fat_pct",
         "object"
        ],
        [
         "hand_length",
         "object"
        ],
        [
         "hand_width",
         "object"
        ],
        [
         "standing_vertical_leap",
         "float64"
        ],
        [
         "max_vertical_leap",
         "float64"
        ],
        [
         "lane_agility_time",
         "float64"
        ],
        [
         "modified_lane_agility_time",
         "float64"
        ],
        [
         "three_quarter_sprint",
         "float64"
        ],
        [
         "bench_press",
         "float64"
        ],
        [
         "spot_fifteen_corner_left",
         "object"
        ],
        [
         "spot_fifteen_break_left",
         "object"
        ],
        [
         "spot_fifteen_top_key",
         "object"
        ],
        [
         "spot_fifteen_break_right",
         "object"
        ],
        [
         "spot_fifteen_corner_right",
         "object"
        ],
        [
         "spot_college_corner_left",
         "object"
        ],
        [
         "spot_college_break_left",
         "object"
        ],
        [
         "spot_college_top_key",
         "object"
        ],
        [
         "spot_college_break_right",
         "object"
        ],
        [
         "spot_college_corner_right",
         "object"
        ],
        [
         "spot_nba_corner_left",
         "object"
        ],
        [
         "spot_nba_break_left",
         "object"
        ],
        [
         "spot_nba_top_key",
         "object"
        ],
        [
         "spot_nba_break_right",
         "object"
        ],
        [
         "spot_nba_corner_right",
         "object"
        ],
        [
         "off_drib_fifteen_break_left",
         "object"
        ],
        [
         "off_drib_fifteen_top_key",
         "object"
        ],
        [
         "off_drib_fifteen_break_right",
         "object"
        ],
        [
         "off_drib_college_break_left",
         "object"
        ],
        [
         "off_drib_college_top_key",
         "object"
        ],
        [
         "off_drib_college_break_right",
         "object"
        ],
        [
         "on_move_fifteen",
         "object"
        ],
        [
         "on_move_college",
         "object"
        ]
       ],
       "shape": {
        "columns": 1,
        "rows": 47
       }
      },
      "text/plain": [
       "season                          datetime64[ns]\n",
       "player_id                               object\n",
       "first_name                              object\n",
       "last_name                               object\n",
       "player_name                             object\n",
       "position                                object\n",
       "height_wo_shoes                        float64\n",
       "height_wo_shoes_ft_in                   object\n",
       "height_w_shoes                         float64\n",
       "height_w_shoes_ft_in                    object\n",
       "weight                                  object\n",
       "wingspan                               float64\n",
       "wingspan_ft_in                          object\n",
       "standing_reach                         float64\n",
       "standing_reach_ft_in                    object\n",
       "body_fat_pct                            object\n",
       "hand_length                             object\n",
       "hand_width                              object\n",
       "standing_vertical_leap                 float64\n",
       "max_vertical_leap                      float64\n",
       "lane_agility_time                      float64\n",
       "modified_lane_agility_time             float64\n",
       "three_quarter_sprint                   float64\n",
       "bench_press                            float64\n",
       "spot_fifteen_corner_left                object\n",
       "spot_fifteen_break_left                 object\n",
       "spot_fifteen_top_key                    object\n",
       "spot_fifteen_break_right                object\n",
       "spot_fifteen_corner_right               object\n",
       "spot_college_corner_left                object\n",
       "spot_college_break_left                 object\n",
       "spot_college_top_key                    object\n",
       "spot_college_break_right                object\n",
       "spot_college_corner_right               object\n",
       "spot_nba_corner_left                    object\n",
       "spot_nba_break_left                     object\n",
       "spot_nba_top_key                        object\n",
       "spot_nba_break_right                    object\n",
       "spot_nba_corner_right                   object\n",
       "off_drib_fifteen_break_left             object\n",
       "off_drib_fifteen_top_key                object\n",
       "off_drib_fifteen_break_right            object\n",
       "off_drib_college_break_left             object\n",
       "off_drib_college_top_key                object\n",
       "off_drib_college_break_right            object\n",
       "on_move_fifteen                         object\n",
       "on_move_college                         object\n",
       "dtype: object"
      ]
     },
     "execution_count": 29,
     "metadata": {},
     "output_type": "execute_result"
    }
   ],
   "source": [
    "df_draft_combine_stats_filtrado.dtypes"
   ]
  },
  {
   "cell_type": "code",
   "execution_count": 30,
   "id": "8bd9e835",
   "metadata": {},
   "outputs": [],
   "source": [
    "colum_draft = [\n",
    "    'height_wo_shoes',\n",
    "    'height_w_shoes',\n",
    "    'wingspan',\n",
    "    'standing_reach',\n",
    "    'standing_vertical_leap',\n",
    "    'max_vertical_leap',\n",
    "    'lane_agility_time',\n",
    "    'modified_lane_agility_time',\n",
    "    'three_quarter_sprint',\n",
    "    'bench_press'\n",
    "]\n",
    "\n",
    "\n",
    "df_draft_combine_stats_filtrado.loc[:, colum_draft] = df_draft_combine_stats_filtrado[colum_draft].loc[:, colum_draft].fillna(0)\n"
   ]
  },
  {
   "cell_type": "code",
   "execution_count": 31,
   "id": "f337cc85",
   "metadata": {},
   "outputs": [],
   "source": [
    "colum_draft_2 = [\n",
    "    'height_wo_shoes_ft_in',\n",
    "    'height_w_shoes_ft_in',\n",
    "    'weight',\n",
    "    'wingspan_ft_in',\n",
    "    'standing_reach_ft_in',\n",
    "    'body_fat_pct',\n",
    "    'hand_length',\n",
    "    'hand_width',\n",
    "    'spot_fifteen_corner_left',\n",
    "    'off_drib_college_break_right',\n",
    "    'on_move_fifteen',\n",
    "    'on_move_college'\n",
    "]\n",
    "\n",
    "df_draft_combine_stats_filtrado.loc[:, colum_draft_2] = df_draft_combine_stats_filtrado.loc[:, colum_draft_2].fillna('Sin_Dato')\n"
   ]
  },
  {
   "cell_type": "markdown",
   "id": "2cce08fe",
   "metadata": {},
   "source": [
    "verificamos que se hayan cambiado lo nulos con la limpieza anterior "
   ]
  },
  {
   "cell_type": "code",
   "execution_count": 32,
   "id": "63db1053",
   "metadata": {},
   "outputs": [
    {
     "name": "stdout",
     "output_type": "stream",
     "text": [
      "season                            0\n",
      "player_id                         0\n",
      "first_name                        0\n",
      "last_name                         0\n",
      "player_name                       0\n",
      "position                          0\n",
      "height_wo_shoes                   0\n",
      "height_wo_shoes_ft_in             0\n",
      "height_w_shoes                    0\n",
      "height_w_shoes_ft_in              0\n",
      "weight                            0\n",
      "wingspan                          0\n",
      "wingspan_ft_in                    0\n",
      "standing_reach                    0\n",
      "standing_reach_ft_in              0\n",
      "body_fat_pct                      0\n",
      "hand_length                       0\n",
      "hand_width                        0\n",
      "standing_vertical_leap            0\n",
      "max_vertical_leap                 0\n",
      "lane_agility_time                 0\n",
      "modified_lane_agility_time        0\n",
      "three_quarter_sprint              0\n",
      "bench_press                       0\n",
      "spot_fifteen_corner_left          0\n",
      "spot_fifteen_break_left         351\n",
      "spot_fifteen_top_key            351\n",
      "spot_fifteen_break_right        351\n",
      "spot_fifteen_corner_right       351\n",
      "spot_college_corner_left        205\n",
      "spot_college_break_left         326\n",
      "spot_college_top_key            326\n",
      "spot_college_break_right        326\n",
      "spot_college_corner_right       326\n",
      "spot_nba_corner_left            317\n",
      "spot_nba_break_left             317\n",
      "spot_nba_top_key                317\n",
      "spot_nba_break_right            317\n",
      "spot_nba_corner_right           317\n",
      "off_drib_fifteen_break_left     320\n",
      "off_drib_fifteen_top_key        320\n",
      "off_drib_fifteen_break_right    320\n",
      "off_drib_college_break_left     235\n",
      "off_drib_college_top_key        354\n",
      "off_drib_college_break_right      0\n",
      "on_move_fifteen                   0\n",
      "on_move_college                   0\n",
      "dtype: int64\n"
     ]
    }
   ],
   "source": [
    "print(df_draft_combine_stats_filtrado.isnull().sum())"
   ]
  },
  {
   "cell_type": "markdown",
   "id": "48f06b66",
   "metadata": {},
   "source": [
    "# 🚀 quinta tabla  **player**"
   ]
  },
  {
   "cell_type": "code",
   "execution_count": 33,
   "id": "ab9e000f",
   "metadata": {},
   "outputs": [],
   "source": [
    "df_player = pd.read_csv(\"c:\\\\Users\\\\benav\\\\Downloads\\\\player.csv\")"
   ]
  },
  {
   "cell_type": "code",
   "execution_count": 34,
   "id": "03b9359a",
   "metadata": {},
   "outputs": [
    {
     "data": {
      "text/plain": [
       "(4831, 5)"
      ]
     },
     "execution_count": 34,
     "metadata": {},
     "output_type": "execute_result"
    }
   ],
   "source": [
    "df_player.shape"
   ]
  },
  {
   "cell_type": "code",
   "execution_count": 35,
   "id": "afe06bc9",
   "metadata": {},
   "outputs": [
    {
     "name": "stdout",
     "output_type": "stream",
     "text": [
      "           id            full_name first_name     last_name  is_active\n",
      "0       76001       Alaa Abdelnaby       Alaa     Abdelnaby          0\n",
      "1       76002      Zaid Abdul-Aziz       Zaid    Abdul-Aziz          0\n",
      "2       76003  Kareem Abdul-Jabbar     Kareem  Abdul-Jabbar          0\n",
      "3          51   Mahmoud Abdul-Rauf    Mahmoud    Abdul-Rauf          0\n",
      "4        1505    Tariq Abdul-Wahad      Tariq   Abdul-Wahad          0\n",
      "...       ...                  ...        ...           ...        ...\n",
      "4826  1627790           Ante Zizic       Ante         Zizic          0\n",
      "4827    78647             Jim Zoet        Jim          Zoet          0\n",
      "4828    78648            Bill Zopf       Bill          Zopf          0\n",
      "4829  1627826          Ivica Zubac      Ivica         Zubac          1\n",
      "4830    78650           Matt Zunic       Matt         Zunic          0\n",
      "\n",
      "[4831 rows x 5 columns]\n"
     ]
    }
   ],
   "source": [
    "print(df_player)"
   ]
  },
  {
   "cell_type": "code",
   "execution_count": 36,
   "id": "b426b35e",
   "metadata": {},
   "outputs": [
    {
     "name": "stdout",
     "output_type": "stream",
     "text": [
      "id            0\n",
      "full_name     0\n",
      "first_name    6\n",
      "last_name     0\n",
      "is_active     0\n",
      "dtype: int64\n"
     ]
    }
   ],
   "source": [
    "print(df_player.isnull().sum())"
   ]
  },
  {
   "cell_type": "code",
   "execution_count": 37,
   "id": "0a15353f",
   "metadata": {},
   "outputs": [],
   "source": [
    "df_player = df_player.dropna(subset=[\"first_name\"])"
   ]
  },
  {
   "cell_type": "code",
   "execution_count": 38,
   "id": "1654255f",
   "metadata": {},
   "outputs": [
    {
     "name": "stdout",
     "output_type": "stream",
     "text": [
      "id            0\n",
      "full_name     0\n",
      "first_name    0\n",
      "last_name     0\n",
      "is_active     0\n",
      "dtype: int64\n"
     ]
    }
   ],
   "source": [
    "print(df_player.isnull().sum())"
   ]
  },
  {
   "cell_type": "code",
   "execution_count": 39,
   "id": "90df2fb2",
   "metadata": {},
   "outputs": [
    {
     "data": {
      "text/plain": [
       "(4825, 5)"
      ]
     },
     "execution_count": 39,
     "metadata": {},
     "output_type": "execute_result"
    }
   ],
   "source": [
    "df_player.shape"
   ]
  },
  {
   "cell_type": "markdown",
   "id": "3a87782a",
   "metadata": {},
   "source": [
    "descargar archivos csv de las tablas ya limpias "
   ]
  },
  {
   "cell_type": "code",
   "execution_count": 41,
   "id": "768c5b47",
   "metadata": {},
   "outputs": [],
   "source": [
    "df_player.to_csv(\"CSV/player_limpio.csv\", index=False)\n",
    "df_draft_combine_stats_filtrado.to_csv(\"CSV/draft_combine_statsr_limpio.csv\", index=False)\n",
    "df_common_player_info.to_csv(\"CSV/common_player_info.csv\", index=False)\n",
    "df_other_stats.to_csv(\"CSV/other_stats.csv\", index=False)\n",
    "df_line_score_filtrado.to_csv(\"CSV/line_score_filtrado.csv\", index=False)"
   ]
  }
 ],
 "metadata": {
  "kernelspec": {
   "display_name": "Python 3",
   "language": "python",
   "name": "python3"
  },
  "language_info": {
   "codemirror_mode": {
    "name": "ipython",
    "version": 3
   },
   "file_extension": ".py",
   "mimetype": "text/x-python",
   "name": "python",
   "nbconvert_exporter": "python",
   "pygments_lexer": "ipython3",
   "version": "3.13.3"
  }
 },
 "nbformat": 4,
 "nbformat_minor": 5
}
